{
 "cells": [
  {
   "cell_type": "markdown",
   "metadata": {
    "papermill": {
     "duration": 0.017375,
     "end_time": "2022-11-08T12:58:17.566583",
     "exception": false,
     "start_time": "2022-11-08T12:58:17.549208",
     "status": "completed"
    },
    "tags": []
   },
   "source": [
    "## Stock Price Prediction using Linear Regression\n",
    "\n"
   ]
  },
  {
   "cell_type": "markdown",
   "metadata": {
    "papermill": {
     "duration": 0.015663,
     "end_time": "2022-11-08T12:58:17.598743",
     "exception": false,
     "start_time": "2022-11-08T12:58:17.583080",
     "status": "completed"
    },
    "tags": []
   },
   "source": [
    "### About the Dataset - \n",
    "The dataset has around 60 features which includes features extracted from OHLC, other index prices such as QQQ(Nasdaq-100 ETF) & S&P 500, technical Indicators such as Bollinger bands, EMA(Exponential Moving Averages, Stocastic %K oscillator, RSI etc)\n",
    "\n",
    "Furthermore, I have created lagged features from previous day price data as we know previous day prices affect the future stock price.\n",
    "\n",
    "Then, the data has date features which specifies, if its a leap year, if its month start or end, Quarter start or end, etc. \n",
    "\n",
    "\n",
    "All of these features have something to offer for forcasting. Some tells us about the trend, some gives us a signal if the stock is overbought or oversold, some portrays the strength of the price trend.\n",
    "\n",
    "This Dataset is a bit old (2020 or 2019) you can add the new csv file in input section and work on it.\n",
    "\n",
    "This code is Re-edited By \n",
    "Harsh Pandey\n",
    "@pandeyharsh407\n"
   ]
  },
  {
   "cell_type": "code",
   "execution_count": 1,
   "metadata": {
    "_cell_guid": "b1076dfc-b9ad-4769-8c92-a6c4dae69d19",
    "_uuid": "8f2839f25d086af736a60e9eeb907d3b93b6e0e5",
    "execution": {
     "iopub.execute_input": "2022-11-08T12:58:17.634648Z",
     "iopub.status.busy": "2022-11-08T12:58:17.633840Z",
     "iopub.status.idle": "2022-11-08T12:58:18.654493Z",
     "shell.execute_reply": "2022-11-08T12:58:18.655094Z",
     "shell.execute_reply.started": "2022-11-08T12:56:01.906613Z"
    },
    "papermill": {
     "duration": 1.040097,
     "end_time": "2022-11-08T12:58:18.655280",
     "exception": false,
     "start_time": "2022-11-08T12:58:17.615183",
     "status": "completed"
    },
    "tags": []
   },
   "outputs": [],
   "source": [
    "import pandas as pd\n",
    "import matplotlib.pyplot as plt\n",
    "from pylab import rcParams\n",
    "import numpy as np\n",
    "import seaborn as sns\n",
    "import os\n",
    "\n",
    "from sklearn.ensemble import RandomForestRegressor\n",
    "from sklearn.model_selection import cross_val_score, train_test_split, GridSearchCV\n",
    "from sklearn.feature_selection import RFECV, SelectFromModel, SelectKBest\n",
    "from sklearn.preprocessing import StandardScaler\n",
    "from sklearn import metrics\n",
    "%matplotlib inline\n"
   ]
  },
  {
   "cell_type": "markdown",
   "metadata": {
    "papermill": {
     "duration": 0.016521,
     "end_time": "2022-11-08T12:58:18.689490",
     "exception": false,
     "start_time": "2022-11-08T12:58:18.672969",
     "status": "completed"
    },
    "tags": []
   },
   "source": [
    "### Load the data-\n",
    "\n",
    "I will use the Apple Stock Data for this notebook\n",
    "We can use any data (AAPL.csv, AMZN.csv, FB.csv, GE.csv, GOOGL.csv ,GS.csv, IBM.csv, JPM.csv, MSFT.csv, TSLA.csv)\n",
    "from input and change our code accordingly..."
   ]
  },
  {
   "cell_type": "code",
   "execution_count": 2,
   "metadata": {
    "execution": {
     "iopub.execute_input": "2022-11-08T12:58:18.724987Z",
     "iopub.status.busy": "2022-11-08T12:58:18.724163Z",
     "iopub.status.idle": "2022-11-08T12:58:18.850328Z",
     "shell.execute_reply": "2022-11-08T12:58:18.850777Z",
     "shell.execute_reply.started": "2022-11-08T12:56:01.935584Z"
    },
    "papermill": {
     "duration": 0.145282,
     "end_time": "2022-11-08T12:58:18.850948",
     "exception": false,
     "start_time": "2022-11-08T12:58:18.705666",
     "status": "completed"
    },
    "tags": []
   },
   "outputs": [
    {
     "data": {
      "text/html": [
       "<div>\n",
       "<style scoped>\n",
       "    .dataframe tbody tr th:only-of-type {\n",
       "        vertical-align: middle;\n",
       "    }\n",
       "\n",
       "    .dataframe tbody tr th {\n",
       "        vertical-align: top;\n",
       "    }\n",
       "\n",
       "    .dataframe thead th {\n",
       "        text-align: right;\n",
       "    }\n",
       "</style>\n",
       "<table border=\"1\" class=\"dataframe\">\n",
       "  <thead>\n",
       "    <tr style=\"text-align: right;\">\n",
       "      <th></th>\n",
       "      <th>Open</th>\n",
       "      <th>High</th>\n",
       "      <th>Low</th>\n",
       "      <th>Close</th>\n",
       "      <th>Volume</th>\n",
       "      <th>SD20</th>\n",
       "      <th>Upper_Band</th>\n",
       "      <th>Lower_Band</th>\n",
       "      <th>S_Close(t-1)</th>\n",
       "      <th>S_Close(t-2)</th>\n",
       "      <th>...</th>\n",
       "      <th>QQQ_MA10</th>\n",
       "      <th>QQQ_MA20</th>\n",
       "      <th>QQQ_MA50</th>\n",
       "      <th>SnP_Close</th>\n",
       "      <th>SnP(t-1))</th>\n",
       "      <th>SnP(t-5)</th>\n",
       "      <th>DJIA_Close</th>\n",
       "      <th>DJIA(t-1))</th>\n",
       "      <th>DJIA(t-5)</th>\n",
       "      <th>Close_forcast</th>\n",
       "    </tr>\n",
       "    <tr>\n",
       "      <th>Date</th>\n",
       "      <th></th>\n",
       "      <th></th>\n",
       "      <th></th>\n",
       "      <th></th>\n",
       "      <th></th>\n",
       "      <th></th>\n",
       "      <th></th>\n",
       "      <th></th>\n",
       "      <th></th>\n",
       "      <th></th>\n",
       "      <th></th>\n",
       "      <th></th>\n",
       "      <th></th>\n",
       "      <th></th>\n",
       "      <th></th>\n",
       "      <th></th>\n",
       "      <th></th>\n",
       "      <th></th>\n",
       "      <th></th>\n",
       "      <th></th>\n",
       "      <th></th>\n",
       "    </tr>\n",
       "  </thead>\n",
       "  <tbody>\n",
       "    <tr>\n",
       "      <th>2005-10-17</th>\n",
       "      <td>6.66</td>\n",
       "      <td>6.69</td>\n",
       "      <td>6.50</td>\n",
       "      <td>6.60</td>\n",
       "      <td>154208600</td>\n",
       "      <td>0.169237</td>\n",
       "      <td>6.827473</td>\n",
       "      <td>6.150527</td>\n",
       "      <td>6.67</td>\n",
       "      <td>6.63</td>\n",
       "      <td>...</td>\n",
       "      <td>33.692</td>\n",
       "      <td>33.9970</td>\n",
       "      <td>34.2690</td>\n",
       "      <td>1190.10</td>\n",
       "      <td>1186.57</td>\n",
       "      <td>1187.33</td>\n",
       "      <td>10348.10</td>\n",
       "      <td>10287.34</td>\n",
       "      <td>10238.76</td>\n",
       "      <td>6.45</td>\n",
       "    </tr>\n",
       "    <tr>\n",
       "      <th>2005-10-18</th>\n",
       "      <td>6.57</td>\n",
       "      <td>6.66</td>\n",
       "      <td>6.44</td>\n",
       "      <td>6.45</td>\n",
       "      <td>152397000</td>\n",
       "      <td>0.168339</td>\n",
       "      <td>6.819677</td>\n",
       "      <td>6.146323</td>\n",
       "      <td>6.60</td>\n",
       "      <td>6.67</td>\n",
       "      <td>...</td>\n",
       "      <td>33.570</td>\n",
       "      <td>33.9525</td>\n",
       "      <td>34.2466</td>\n",
       "      <td>1178.14</td>\n",
       "      <td>1190.10</td>\n",
       "      <td>1184.87</td>\n",
       "      <td>10285.26</td>\n",
       "      <td>10348.10</td>\n",
       "      <td>10253.17</td>\n",
       "      <td>6.78</td>\n",
       "    </tr>\n",
       "    <tr>\n",
       "      <th>2005-10-19</th>\n",
       "      <td>6.43</td>\n",
       "      <td>6.78</td>\n",
       "      <td>6.32</td>\n",
       "      <td>6.78</td>\n",
       "      <td>252170800</td>\n",
       "      <td>0.180306</td>\n",
       "      <td>6.861112</td>\n",
       "      <td>6.139888</td>\n",
       "      <td>6.45</td>\n",
       "      <td>6.60</td>\n",
       "      <td>...</td>\n",
       "      <td>33.562</td>\n",
       "      <td>33.9600</td>\n",
       "      <td>34.2330</td>\n",
       "      <td>1195.76</td>\n",
       "      <td>1178.14</td>\n",
       "      <td>1177.68</td>\n",
       "      <td>10414.13</td>\n",
       "      <td>10285.26</td>\n",
       "      <td>10216.91</td>\n",
       "      <td>6.93</td>\n",
       "    </tr>\n",
       "    <tr>\n",
       "      <th>2005-10-20</th>\n",
       "      <td>6.72</td>\n",
       "      <td>6.97</td>\n",
       "      <td>6.71</td>\n",
       "      <td>6.93</td>\n",
       "      <td>339440500</td>\n",
       "      <td>0.202674</td>\n",
       "      <td>6.931847</td>\n",
       "      <td>6.121153</td>\n",
       "      <td>6.78</td>\n",
       "      <td>6.45</td>\n",
       "      <td>...</td>\n",
       "      <td>33.567</td>\n",
       "      <td>33.9455</td>\n",
       "      <td>34.2190</td>\n",
       "      <td>1177.80</td>\n",
       "      <td>1195.76</td>\n",
       "      <td>1176.84</td>\n",
       "      <td>10281.10</td>\n",
       "      <td>10414.13</td>\n",
       "      <td>10216.59</td>\n",
       "      <td>6.87</td>\n",
       "    </tr>\n",
       "    <tr>\n",
       "      <th>2005-10-21</th>\n",
       "      <td>7.02</td>\n",
       "      <td>7.03</td>\n",
       "      <td>6.83</td>\n",
       "      <td>6.87</td>\n",
       "      <td>199181500</td>\n",
       "      <td>0.216680</td>\n",
       "      <td>6.974860</td>\n",
       "      <td>6.108140</td>\n",
       "      <td>6.93</td>\n",
       "      <td>6.78</td>\n",
       "      <td>...</td>\n",
       "      <td>33.586</td>\n",
       "      <td>33.9365</td>\n",
       "      <td>34.2034</td>\n",
       "      <td>1179.59</td>\n",
       "      <td>1177.80</td>\n",
       "      <td>1186.57</td>\n",
       "      <td>10215.22</td>\n",
       "      <td>10281.10</td>\n",
       "      <td>10287.34</td>\n",
       "      <td>7.01</td>\n",
       "    </tr>\n",
       "  </tbody>\n",
       "</table>\n",
       "<p>5 rows × 63 columns</p>\n",
       "</div>"
      ],
      "text/plain": [
       "            Open  High   Low  Close     Volume      SD20  Upper_Band  \\\n",
       "Date                                                                   \n",
       "2005-10-17  6.66  6.69  6.50   6.60  154208600  0.169237    6.827473   \n",
       "2005-10-18  6.57  6.66  6.44   6.45  152397000  0.168339    6.819677   \n",
       "2005-10-19  6.43  6.78  6.32   6.78  252170800  0.180306    6.861112   \n",
       "2005-10-20  6.72  6.97  6.71   6.93  339440500  0.202674    6.931847   \n",
       "2005-10-21  7.02  7.03  6.83   6.87  199181500  0.216680    6.974860   \n",
       "\n",
       "            Lower_Band  S_Close(t-1)  S_Close(t-2)  ...  QQQ_MA10  QQQ_MA20  \\\n",
       "Date                                                ...                       \n",
       "2005-10-17    6.150527          6.67          6.63  ...    33.692   33.9970   \n",
       "2005-10-18    6.146323          6.60          6.67  ...    33.570   33.9525   \n",
       "2005-10-19    6.139888          6.45          6.60  ...    33.562   33.9600   \n",
       "2005-10-20    6.121153          6.78          6.45  ...    33.567   33.9455   \n",
       "2005-10-21    6.108140          6.93          6.78  ...    33.586   33.9365   \n",
       "\n",
       "            QQQ_MA50  SnP_Close  SnP(t-1))  SnP(t-5)  DJIA_Close  DJIA(t-1))  \\\n",
       "Date                                                                           \n",
       "2005-10-17   34.2690    1190.10    1186.57   1187.33    10348.10    10287.34   \n",
       "2005-10-18   34.2466    1178.14    1190.10   1184.87    10285.26    10348.10   \n",
       "2005-10-19   34.2330    1195.76    1178.14   1177.68    10414.13    10285.26   \n",
       "2005-10-20   34.2190    1177.80    1195.76   1176.84    10281.10    10414.13   \n",
       "2005-10-21   34.2034    1179.59    1177.80   1186.57    10215.22    10281.10   \n",
       "\n",
       "            DJIA(t-5)  Close_forcast  \n",
       "Date                                  \n",
       "2005-10-17   10238.76           6.45  \n",
       "2005-10-18   10253.17           6.78  \n",
       "2005-10-19   10216.91           6.93  \n",
       "2005-10-20   10216.59           6.87  \n",
       "2005-10-21   10287.34           7.01  \n",
       "\n",
       "[5 rows x 63 columns]"
      ]
     },
     "execution_count": 2,
     "metadata": {},
     "output_type": "execute_result"
    }
   ],
   "source": [
    "Stock = pd.read_csv('../input/us-stock-market-data-60-extracted-features/AAPL.csv',  index_col=0)\n",
    "\n",
    "df_Stock = Stock\n",
    "df_Stock = df_Stock.rename(columns={'Close(t)':'Close'})\n",
    "df_Stock.head()"
   ]
  },
  {
   "cell_type": "code",
   "execution_count": 3,
   "metadata": {
    "execution": {
     "iopub.execute_input": "2022-11-08T12:58:18.908661Z",
     "iopub.status.busy": "2022-11-08T12:58:18.897904Z",
     "iopub.status.idle": "2022-11-08T12:58:18.913302Z",
     "shell.execute_reply": "2022-11-08T12:58:18.912696Z",
     "shell.execute_reply.started": "2022-11-08T12:56:02.021581Z"
    },
    "papermill": {
     "duration": 0.04436,
     "end_time": "2022-11-08T12:58:18.913412",
     "exception": false,
     "start_time": "2022-11-08T12:58:18.869052",
     "status": "completed"
    },
    "tags": []
   },
   "outputs": [
    {
     "data": {
      "text/html": [
       "<div>\n",
       "<style scoped>\n",
       "    .dataframe tbody tr th:only-of-type {\n",
       "        vertical-align: middle;\n",
       "    }\n",
       "\n",
       "    .dataframe tbody tr th {\n",
       "        vertical-align: top;\n",
       "    }\n",
       "\n",
       "    .dataframe thead th {\n",
       "        text-align: right;\n",
       "    }\n",
       "</style>\n",
       "<table border=\"1\" class=\"dataframe\">\n",
       "  <thead>\n",
       "    <tr style=\"text-align: right;\">\n",
       "      <th></th>\n",
       "      <th>Open</th>\n",
       "      <th>High</th>\n",
       "      <th>Low</th>\n",
       "      <th>Close</th>\n",
       "      <th>Volume</th>\n",
       "      <th>SD20</th>\n",
       "      <th>Upper_Band</th>\n",
       "      <th>Lower_Band</th>\n",
       "      <th>S_Close(t-1)</th>\n",
       "      <th>S_Close(t-2)</th>\n",
       "      <th>...</th>\n",
       "      <th>QQQ_MA10</th>\n",
       "      <th>QQQ_MA20</th>\n",
       "      <th>QQQ_MA50</th>\n",
       "      <th>SnP_Close</th>\n",
       "      <th>SnP(t-1))</th>\n",
       "      <th>SnP(t-5)</th>\n",
       "      <th>DJIA_Close</th>\n",
       "      <th>DJIA(t-1))</th>\n",
       "      <th>DJIA(t-5)</th>\n",
       "      <th>Close_forcast</th>\n",
       "    </tr>\n",
       "    <tr>\n",
       "      <th>Date</th>\n",
       "      <th></th>\n",
       "      <th></th>\n",
       "      <th></th>\n",
       "      <th></th>\n",
       "      <th></th>\n",
       "      <th></th>\n",
       "      <th></th>\n",
       "      <th></th>\n",
       "      <th></th>\n",
       "      <th></th>\n",
       "      <th></th>\n",
       "      <th></th>\n",
       "      <th></th>\n",
       "      <th></th>\n",
       "      <th></th>\n",
       "      <th></th>\n",
       "      <th></th>\n",
       "      <th></th>\n",
       "      <th></th>\n",
       "      <th></th>\n",
       "      <th></th>\n",
       "    </tr>\n",
       "  </thead>\n",
       "  <tbody>\n",
       "    <tr>\n",
       "      <th>2020-08-07</th>\n",
       "      <td>452.82</td>\n",
       "      <td>454.70</td>\n",
       "      <td>441.17</td>\n",
       "      <td>444.45</td>\n",
       "      <td>49453300</td>\n",
       "      <td>27.954399</td>\n",
       "      <td>455.316298</td>\n",
       "      <td>343.498702</td>\n",
       "      <td>454.79</td>\n",
       "      <td>439.46</td>\n",
       "      <td>...</td>\n",
       "      <td>266.054</td>\n",
       "      <td>263.4085</td>\n",
       "      <td>252.2098</td>\n",
       "      <td>3351.28</td>\n",
       "      <td>3349.16</td>\n",
       "      <td>3271.12</td>\n",
       "      <td>27433.48</td>\n",
       "      <td>27386.98</td>\n",
       "      <td>26428.32</td>\n",
       "      <td>450.91</td>\n",
       "    </tr>\n",
       "    <tr>\n",
       "      <th>2020-08-10</th>\n",
       "      <td>450.40</td>\n",
       "      <td>455.10</td>\n",
       "      <td>440.00</td>\n",
       "      <td>450.91</td>\n",
       "      <td>53100900</td>\n",
       "      <td>29.847338</td>\n",
       "      <td>462.586675</td>\n",
       "      <td>343.197325</td>\n",
       "      <td>444.45</td>\n",
       "      <td>454.79</td>\n",
       "      <td>...</td>\n",
       "      <td>267.073</td>\n",
       "      <td>263.9970</td>\n",
       "      <td>252.9570</td>\n",
       "      <td>3360.47</td>\n",
       "      <td>3351.28</td>\n",
       "      <td>3294.61</td>\n",
       "      <td>27791.44</td>\n",
       "      <td>27433.48</td>\n",
       "      <td>26664.40</td>\n",
       "      <td>437.50</td>\n",
       "    </tr>\n",
       "    <tr>\n",
       "      <th>2020-08-11</th>\n",
       "      <td>447.88</td>\n",
       "      <td>449.93</td>\n",
       "      <td>436.43</td>\n",
       "      <td>437.50</td>\n",
       "      <td>46975600</td>\n",
       "      <td>30.576290</td>\n",
       "      <td>466.543079</td>\n",
       "      <td>344.237921</td>\n",
       "      <td>450.91</td>\n",
       "      <td>444.45</td>\n",
       "      <td>...</td>\n",
       "      <td>267.911</td>\n",
       "      <td>264.2380</td>\n",
       "      <td>253.5878</td>\n",
       "      <td>3333.69</td>\n",
       "      <td>3360.47</td>\n",
       "      <td>3306.51</td>\n",
       "      <td>27686.91</td>\n",
       "      <td>27791.44</td>\n",
       "      <td>26828.47</td>\n",
       "      <td>452.04</td>\n",
       "    </tr>\n",
       "    <tr>\n",
       "      <th>2020-08-12</th>\n",
       "      <td>441.99</td>\n",
       "      <td>453.10</td>\n",
       "      <td>441.19</td>\n",
       "      <td>452.04</td>\n",
       "      <td>41486200</td>\n",
       "      <td>32.050532</td>\n",
       "      <td>472.583564</td>\n",
       "      <td>344.381436</td>\n",
       "      <td>437.50</td>\n",
       "      <td>450.91</td>\n",
       "      <td>...</td>\n",
       "      <td>269.120</td>\n",
       "      <td>264.7860</td>\n",
       "      <td>254.3206</td>\n",
       "      <td>3380.35</td>\n",
       "      <td>3333.69</td>\n",
       "      <td>3327.77</td>\n",
       "      <td>27976.84</td>\n",
       "      <td>27686.91</td>\n",
       "      <td>27201.52</td>\n",
       "      <td>460.04</td>\n",
       "    </tr>\n",
       "    <tr>\n",
       "      <th>2020-08-13</th>\n",
       "      <td>457.72</td>\n",
       "      <td>464.17</td>\n",
       "      <td>455.71</td>\n",
       "      <td>460.04</td>\n",
       "      <td>52520500</td>\n",
       "      <td>33.532634</td>\n",
       "      <td>479.279768</td>\n",
       "      <td>345.149232</td>\n",
       "      <td>452.04</td>\n",
       "      <td>437.50</td>\n",
       "      <td>...</td>\n",
       "      <td>270.255</td>\n",
       "      <td>265.4540</td>\n",
       "      <td>255.0446</td>\n",
       "      <td>3373.43</td>\n",
       "      <td>3380.35</td>\n",
       "      <td>3349.16</td>\n",
       "      <td>27896.72</td>\n",
       "      <td>27976.84</td>\n",
       "      <td>27386.98</td>\n",
       "      <td>459.63</td>\n",
       "    </tr>\n",
       "  </tbody>\n",
       "</table>\n",
       "<p>5 rows × 63 columns</p>\n",
       "</div>"
      ],
      "text/plain": [
       "              Open    High     Low   Close    Volume       SD20  Upper_Band  \\\n",
       "Date                                                                          \n",
       "2020-08-07  452.82  454.70  441.17  444.45  49453300  27.954399  455.316298   \n",
       "2020-08-10  450.40  455.10  440.00  450.91  53100900  29.847338  462.586675   \n",
       "2020-08-11  447.88  449.93  436.43  437.50  46975600  30.576290  466.543079   \n",
       "2020-08-12  441.99  453.10  441.19  452.04  41486200  32.050532  472.583564   \n",
       "2020-08-13  457.72  464.17  455.71  460.04  52520500  33.532634  479.279768   \n",
       "\n",
       "            Lower_Band  S_Close(t-1)  S_Close(t-2)  ...  QQQ_MA10  QQQ_MA20  \\\n",
       "Date                                                ...                       \n",
       "2020-08-07  343.498702        454.79        439.46  ...   266.054  263.4085   \n",
       "2020-08-10  343.197325        444.45        454.79  ...   267.073  263.9970   \n",
       "2020-08-11  344.237921        450.91        444.45  ...   267.911  264.2380   \n",
       "2020-08-12  344.381436        437.50        450.91  ...   269.120  264.7860   \n",
       "2020-08-13  345.149232        452.04        437.50  ...   270.255  265.4540   \n",
       "\n",
       "            QQQ_MA50  SnP_Close  SnP(t-1))  SnP(t-5)  DJIA_Close  DJIA(t-1))  \\\n",
       "Date                                                                           \n",
       "2020-08-07  252.2098    3351.28    3349.16   3271.12    27433.48    27386.98   \n",
       "2020-08-10  252.9570    3360.47    3351.28   3294.61    27791.44    27433.48   \n",
       "2020-08-11  253.5878    3333.69    3360.47   3306.51    27686.91    27791.44   \n",
       "2020-08-12  254.3206    3380.35    3333.69   3327.77    27976.84    27686.91   \n",
       "2020-08-13  255.0446    3373.43    3380.35   3349.16    27896.72    27976.84   \n",
       "\n",
       "            DJIA(t-5)  Close_forcast  \n",
       "Date                                  \n",
       "2020-08-07   26428.32         450.91  \n",
       "2020-08-10   26664.40         437.50  \n",
       "2020-08-11   26828.47         452.04  \n",
       "2020-08-12   27201.52         460.04  \n",
       "2020-08-13   27386.98         459.63  \n",
       "\n",
       "[5 rows x 63 columns]"
      ]
     },
     "execution_count": 3,
     "metadata": {},
     "output_type": "execute_result"
    }
   ],
   "source": [
    "df_Stock.tail(5)"
   ]
  },
  {
   "cell_type": "code",
   "execution_count": 4,
   "metadata": {
    "execution": {
     "iopub.execute_input": "2022-11-08T12:58:18.953581Z",
     "iopub.status.busy": "2022-11-08T12:58:18.952641Z",
     "iopub.status.idle": "2022-11-08T12:58:18.956421Z",
     "shell.execute_reply": "2022-11-08T12:58:18.955829Z",
     "shell.execute_reply.started": "2022-11-08T12:56:02.056129Z"
    },
    "papermill": {
     "duration": 0.025291,
     "end_time": "2022-11-08T12:58:18.956520",
     "exception": false,
     "start_time": "2022-11-08T12:58:18.931229",
     "status": "completed"
    },
    "tags": []
   },
   "outputs": [
    {
     "data": {
      "text/plain": [
       "(3732, 63)"
      ]
     },
     "execution_count": 4,
     "metadata": {},
     "output_type": "execute_result"
    }
   ],
   "source": [
    "df_Stock.shape"
   ]
  },
  {
   "cell_type": "code",
   "execution_count": 5,
   "metadata": {
    "execution": {
     "iopub.execute_input": "2022-11-08T12:58:18.999719Z",
     "iopub.status.busy": "2022-11-08T12:58:18.998550Z",
     "iopub.status.idle": "2022-11-08T12:58:19.002515Z",
     "shell.execute_reply": "2022-11-08T12:58:19.001898Z",
     "shell.execute_reply.started": "2022-11-08T12:56:02.065228Z"
    },
    "papermill": {
     "duration": 0.026877,
     "end_time": "2022-11-08T12:58:19.002627",
     "exception": false,
     "start_time": "2022-11-08T12:58:18.975750",
     "status": "completed"
    },
    "tags": []
   },
   "outputs": [
    {
     "data": {
      "text/plain": [
       "Index(['Open', 'High', 'Low', 'Close', 'Volume', 'SD20', 'Upper_Band',\n",
       "       'Lower_Band', 'S_Close(t-1)', 'S_Close(t-2)', 'S_Close(t-3)',\n",
       "       'S_Close(t-5)', 'S_Open(t-1)', 'MA5', 'MA10', 'MA20', 'MA50', 'MA200',\n",
       "       'EMA10', 'EMA20', 'EMA50', 'EMA100', 'EMA200', 'MACD', 'MACD_EMA',\n",
       "       'ATR', 'ADX', 'CCI', 'ROC', 'RSI', 'William%R', 'SO%K', 'STD5',\n",
       "       'ForceIndex1', 'ForceIndex20', 'Date_col', 'Day', 'DayofWeek',\n",
       "       'DayofYear', 'Week', 'Is_month_end', 'Is_month_start', 'Is_quarter_end',\n",
       "       'Is_quarter_start', 'Is_year_end', 'Is_year_start', 'Is_leap_year',\n",
       "       'Year', 'Month', 'QQQ_Close', 'QQQ(t-1)', 'QQQ(t-2)', 'QQQ(t-5)',\n",
       "       'QQQ_MA10', 'QQQ_MA20', 'QQQ_MA50', 'SnP_Close', 'SnP(t-1))',\n",
       "       'SnP(t-5)', 'DJIA_Close', 'DJIA(t-1))', 'DJIA(t-5)', 'Close_forcast'],\n",
       "      dtype='object')"
      ]
     },
     "execution_count": 5,
     "metadata": {},
     "output_type": "execute_result"
    }
   ],
   "source": [
    "df_Stock.columns"
   ]
  },
  {
   "cell_type": "markdown",
   "metadata": {
    "papermill": {
     "duration": 0.017536,
     "end_time": "2022-11-08T12:58:19.037764",
     "exception": false,
     "start_time": "2022-11-08T12:58:19.020228",
     "status": "completed"
    },
    "tags": []
   },
   "source": [
    "### Plot Time Series chart for AAPL-"
   ]
  },
  {
   "cell_type": "code",
   "execution_count": 6,
   "metadata": {
    "execution": {
     "iopub.execute_input": "2022-11-08T12:58:19.078201Z",
     "iopub.status.busy": "2022-11-08T12:58:19.077610Z",
     "iopub.status.idle": "2022-11-08T12:58:19.276634Z",
     "shell.execute_reply": "2022-11-08T12:58:19.276065Z",
     "shell.execute_reply.started": "2022-11-08T12:56:02.080306Z"
    },
    "papermill": {
     "duration": 0.22127,
     "end_time": "2022-11-08T12:58:19.276741",
     "exception": false,
     "start_time": "2022-11-08T12:58:19.055471",
     "status": "completed"
    },
    "tags": []
   },
   "outputs": [
    {
     "data": {
      "image/png": "[encoded data removed]",
      "text/plain": [
       "<Figure size 720x504 with 1 Axes>"
      ]
     },
     "metadata": {
      "needs_background": "light"
     },
     "output_type": "display_data"
    }
   ],
   "source": [
    "df_Stock['Close'].plot(figsize=(10, 7))\n",
    "plt.title(\"Stock Price\", fontsize=17)\n",
    "plt.ylabel('Price', fontsize=14)\n",
    "plt.xlabel('Time', fontsize=14)\n",
    "plt.grid(which=\"major\", color='k', linestyle='-.', linewidth=0.5)\n",
    "plt.show()"
   ]
  },
  {
   "cell_type": "markdown",
   "metadata": {
    "papermill": {
     "duration": 0.018149,
     "end_time": "2022-11-08T12:58:19.313820",
     "exception": false,
     "start_time": "2022-11-08T12:58:19.295671",
     "status": "completed"
    },
    "tags": []
   },
   "source": [
    "Remove some of the columns which are not required"
   ]
  },
  {
   "cell_type": "code",
   "execution_count": 7,
   "metadata": {
    "execution": {
     "iopub.execute_input": "2022-11-08T12:58:19.358949Z",
     "iopub.status.busy": "2022-11-08T12:58:19.358162Z",
     "iopub.status.idle": "2022-11-08T12:58:19.361424Z",
     "shell.execute_reply": "2022-11-08T12:58:19.360794Z",
     "shell.execute_reply.started": "2022-11-08T12:56:02.362626Z"
    },
    "papermill": {
     "duration": 0.028994,
     "end_time": "2022-11-08T12:58:19.361533",
     "exception": false,
     "start_time": "2022-11-08T12:58:19.332539",
     "status": "completed"
    },
    "tags": []
   },
   "outputs": [],
   "source": [
    "df_Stock = df_Stock.drop(columns='Date_col')"
   ]
  },
  {
   "cell_type": "markdown",
   "metadata": {
    "papermill": {
     "duration": 0.019309,
     "end_time": "2022-11-08T12:58:19.400389",
     "exception": false,
     "start_time": "2022-11-08T12:58:19.381080",
     "status": "completed"
    },
    "tags": []
   },
   "source": [
    "### Test Train Set-"
   ]
  },
  {
   "cell_type": "markdown",
   "metadata": {
    "papermill": {
     "duration": 0.018738,
     "end_time": "2022-11-08T12:58:19.438201",
     "exception": false,
     "start_time": "2022-11-08T12:58:19.419463",
     "status": "completed"
    },
    "tags": []
   },
   "source": [
    "Close_forecast is the column that we are trying to predict here which is the price for the next day. "
   ]
  },
  {
   "cell_type": "code",
   "execution_count": 8,
   "metadata": {
    "execution": {
     "iopub.execute_input": "2022-11-08T12:58:19.558636Z",
     "iopub.status.busy": "2022-11-08T12:58:19.557763Z",
     "iopub.status.idle": "2022-11-08T12:58:19.560787Z",
     "shell.execute_reply": "2022-11-08T12:58:19.560211Z",
     "shell.execute_reply.started": "2022-11-08T12:56:02.371907Z"
    },
    "papermill": {
     "duration": 0.103654,
     "end_time": "2022-11-08T12:58:19.560926",
     "exception": false,
     "start_time": "2022-11-08T12:58:19.457272",
     "status": "completed"
    },
    "tags": []
   },
   "outputs": [],
   "source": [
    "def create_train_test_set(df_Stock):\n",
    "    \n",
    "    features = df_Stock.drop(columns=['Close_forcast'], axis=1)\n",
    "    target = df_Stock['Close_forcast']\n",
    "    \n",
    "\n",
    "    data_len = df_Stock.shape[0]\n",
    "    print('Historical Stock Data length is - ', str(data_len))\n",
    "\n",
    "    #create a chronological split for train and testing\n",
    "    train_split = int(data_len * 0.88)\n",
    "    print('Training Set length - ', str(train_split))\n",
    "\n",
    "    val_split = train_split + int(data_len * 0.1)\n",
    "    print('Validation Set length - ', str(int(data_len * 0.1)))\n",
    "\n",
    "    print('Test Set length - ', str(int(data_len * 0.02)))\n",
    "\n",
    "    # Splitting features and target into train, validation and test samples \n",
    "    X_train, X_val, X_test = features[:train_split], features[train_split:val_split], features[val_split:]\n",
    "    Y_train, Y_val, Y_test = target[:train_split], target[train_split:val_split], target[val_split:]\n",
    "\n",
    "    #print shape of samples\n",
    "    print(X_train.shape, X_val.shape, X_test.shape)\n",
    "    print(Y_train.shape, Y_val.shape, Y_test.shape)\n",
    "    \n",
    "    return X_train, X_val, X_test, Y_train, Y_val, Y_test"
   ]
  },
  {
   "cell_type": "code",
   "execution_count": 9,
   "metadata": {
    "execution": {
     "iopub.execute_input": "2022-11-08T12:58:19.607184Z",
     "iopub.status.busy": "2022-11-08T12:58:19.606408Z",
     "iopub.status.idle": "2022-11-08T12:58:19.611770Z",
     "shell.execute_reply": "2022-11-08T12:58:19.610864Z",
     "shell.execute_reply.started": "2022-11-08T12:56:02.385524Z"
    },
    "papermill": {
     "duration": 0.031225,
     "end_time": "2022-11-08T12:58:19.611887",
     "exception": false,
     "start_time": "2022-11-08T12:58:19.580662",
     "status": "completed"
    },
    "tags": []
   },
   "outputs": [
    {
     "name": "stdout",
     "output_type": "stream",
     "text": [
      "Historical Stock Data length is -  3732\n",
      "Training Set length -  3284\n",
      "Validation Set length -  373\n",
      "Test Set length -  74\n",
      "(3284, 61) (373, 61) (75, 61)\n",
      "(3284,) (373,) (75,)\n"
     ]
    }
   ],
   "source": [
    "X_train, X_val, X_test, Y_train, Y_val, Y_test = create_train_test_set(df_Stock)"
   ]
  },
  {
   "cell_type": "markdown",
   "metadata": {
    "papermill": {
     "duration": 0.020079,
     "end_time": "2022-11-08T12:58:19.651156",
     "exception": false,
     "start_time": "2022-11-08T12:58:19.631077",
     "status": "completed"
    },
    "tags": []
   },
   "source": [
    "### Prediction using Linear Regression-"
   ]
  },
  {
   "cell_type": "code",
   "execution_count": 10,
   "metadata": {
    "execution": {
     "iopub.execute_input": "2022-11-08T12:58:19.701687Z",
     "iopub.status.busy": "2022-11-08T12:58:19.700526Z",
     "iopub.status.idle": "2022-11-08T12:58:19.768178Z",
     "shell.execute_reply": "2022-11-08T12:58:19.767428Z",
     "shell.execute_reply.started": "2022-11-08T12:56:02.407865Z"
    },
    "papermill": {
     "duration": 0.095519,
     "end_time": "2022-11-08T12:58:19.768315",
     "exception": false,
     "start_time": "2022-11-08T12:58:19.672796",
     "status": "completed"
    },
    "tags": []
   },
   "outputs": [
    {
     "data": {
      "text/plain": [
       "LinearRegression()"
      ]
     },
     "execution_count": 10,
     "metadata": {},
     "output_type": "execute_result"
    }
   ],
   "source": [
    "from sklearn.linear_model import LinearRegression\n",
    "\n",
    "lr = LinearRegression()\n",
    "lr.fit(X_train, Y_train)"
   ]
  },
  {
   "cell_type": "code",
   "execution_count": 11,
   "metadata": {
    "_cell_guid": "79c7e3d0-c299-4dcb-8224-4455121ee9b0",
    "_uuid": "d629ff2d2480ee46fbb7e2d37f6b5fab8052498a",
    "execution": {
     "iopub.execute_input": "2022-11-08T12:58:19.814059Z",
     "iopub.status.busy": "2022-11-08T12:58:19.813518Z",
     "iopub.status.idle": "2022-11-08T12:58:19.821335Z",
     "shell.execute_reply": "2022-11-08T12:58:19.820567Z",
     "shell.execute_reply.started": "2022-11-08T12:56:03.630884Z"
    },
    "papermill": {
     "duration": 0.030036,
     "end_time": "2022-11-08T12:58:19.821491",
     "exception": false,
     "start_time": "2022-11-08T12:58:19.791455",
     "status": "completed"
    },
    "tags": []
   },
   "outputs": [
    {
     "name": "stdout",
     "output_type": "stream",
     "text": [
      "LR Coefficients: \n",
      " [ 8.63711643e-03  1.86051940e-01  1.55487122e-01  1.12263751e+00\n",
      "  1.27286803e-10  6.75248222e-03  1.40229140e-01  1.13219364e-01\n",
      "  4.25628128e-02  8.96348608e-02  1.01914941e-01  5.94183582e-02\n",
      "  7.95194237e-02  7.10399936e-02  2.71424998e-01  1.26724315e-01\n",
      "  8.79333083e-02 -5.87980436e-03 -3.31643395e-01 -3.31643395e-01\n",
      " -3.31643395e-01 -3.31643395e-01 -3.31643395e-01  1.88650022e+00\n",
      " -1.27270733e+00 -1.65042221e-01 -4.36658019e-04  3.32218457e-13\n",
      " -5.07434686e-03  9.02936465e-03  5.78316992e-04  5.78316992e-04\n",
      " -5.57918343e-01 -2.02304395e-10  4.18932250e-11  1.69322436e-02\n",
      "  1.61636707e-02 -1.75659581e-02  6.12165522e-03  2.15420350e-01\n",
      "  1.13979656e-01 -2.41954674e-01  7.63050303e-02  3.73276599e-01\n",
      " -4.99600361e-16 -5.60843986e-02  4.08788810e-02  5.13473858e-01\n",
      " -2.94431537e-02 -8.41335090e-02  5.10939137e-02 -8.14435741e-03\n",
      " -1.95035187e-02  5.67587247e-02  4.39707790e-02  1.29311735e-02\n",
      " -9.99967545e-03 -3.89778364e-03 -1.62174821e-03  1.44436912e-03\n",
      "  2.83455406e-04]\n",
      "LR Intercept: \n",
      " -83.36486497274721\n"
     ]
    }
   ],
   "source": [
    "print('LR Coefficients: \\n', lr.coef_)\n",
    "print('LR Intercept: \\n', lr.intercept_)"
   ]
  },
  {
   "cell_type": "markdown",
   "metadata": {
    "papermill": {
     "duration": 0.021388,
     "end_time": "2022-11-08T12:58:19.864384",
     "exception": false,
     "start_time": "2022-11-08T12:58:19.842996",
     "status": "completed"
    },
    "tags": []
   },
   "source": [
    "### Evaluation-"
   ]
  },
  {
   "cell_type": "code",
   "execution_count": 12,
   "metadata": {
    "execution": {
     "iopub.execute_input": "2022-11-08T12:58:19.908527Z",
     "iopub.status.busy": "2022-11-08T12:58:19.907886Z",
     "iopub.status.idle": "2022-11-08T12:58:19.918801Z",
     "shell.execute_reply": "2022-11-08T12:58:19.919323Z",
     "shell.execute_reply.started": "2022-11-08T12:56:03.746113Z"
    },
    "papermill": {
     "duration": 0.03438,
     "end_time": "2022-11-08T12:58:19.919456",
     "exception": false,
     "start_time": "2022-11-08T12:58:19.885076",
     "status": "completed"
    },
    "tags": []
   },
   "outputs": [
    {
     "name": "stdout",
     "output_type": "stream",
     "text": [
      "Performance (R^2):  0.9994516474373267\n"
     ]
    }
   ],
   "source": [
    "print(\"Performance (R^2): \", lr.score(X_train, Y_train))"
   ]
  },
  {
   "cell_type": "code",
   "execution_count": 13,
   "metadata": {
    "execution": {
     "iopub.execute_input": "2022-11-08T12:58:19.963526Z",
     "iopub.status.busy": "2022-11-08T12:58:19.962714Z",
     "iopub.status.idle": "2022-11-08T12:58:19.967701Z",
     "shell.execute_reply": "2022-11-08T12:58:19.968226Z",
     "shell.execute_reply.started": "2022-11-08T12:56:03.791491Z"
    },
    "papermill": {
     "duration": 0.028577,
     "end_time": "2022-11-08T12:58:19.968365",
     "exception": false,
     "start_time": "2022-11-08T12:58:19.939788",
     "status": "completed"
    },
    "tags": []
   },
   "outputs": [],
   "source": [
    "def get_mape(y_true, y_pred): \n",
    "    \"\"\"\n",
    "    Compute mean absolute percentage error (MAPE)\n",
    "    \"\"\"\n",
    "    y_true, y_pred = np.array(y_true), np.array(y_pred)\n",
    "    return np.mean(np.abs((y_true - y_pred) / y_true)) * 100"
   ]
  },
  {
   "cell_type": "markdown",
   "metadata": {
    "papermill": {
     "duration": 0.021149,
     "end_time": "2022-11-08T12:58:20.010504",
     "exception": false,
     "start_time": "2022-11-08T12:58:19.989355",
     "status": "completed"
    },
    "tags": []
   },
   "source": [
    "### Predict for the test dataset-"
   ]
  },
  {
   "cell_type": "code",
   "execution_count": 14,
   "metadata": {
    "execution": {
     "iopub.execute_input": "2022-11-08T12:58:20.056700Z",
     "iopub.status.busy": "2022-11-08T12:58:20.055851Z",
     "iopub.status.idle": "2022-11-08T12:58:20.067319Z",
     "shell.execute_reply": "2022-11-08T12:58:20.067747Z",
     "shell.execute_reply.started": "2022-11-08T12:56:03.801653Z"
    },
    "papermill": {
     "duration": 0.035919,
     "end_time": "2022-11-08T12:58:20.067878",
     "exception": false,
     "start_time": "2022-11-08T12:58:20.031959",
     "status": "completed"
    },
    "tags": []
   },
   "outputs": [],
   "source": [
    "Y_train_pred = lr.predict(X_train)\n",
    "Y_val_pred = lr.predict(X_val)\n",
    "Y_test_pred = lr.predict(X_test)"
   ]
  },
  {
   "cell_type": "code",
   "execution_count": 15,
   "metadata": {
    "execution": {
     "iopub.execute_input": "2022-11-08T12:58:20.111604Z",
     "iopub.status.busy": "2022-11-08T12:58:20.110641Z",
     "iopub.status.idle": "2022-11-08T12:58:20.135523Z",
     "shell.execute_reply": "2022-11-08T12:58:20.134957Z",
     "shell.execute_reply.started": "2022-11-08T12:56:03.892651Z"
    },
    "papermill": {
     "duration": 0.047513,
     "end_time": "2022-11-08T12:58:20.135631",
     "exception": false,
     "start_time": "2022-11-08T12:58:20.088118",
     "status": "completed"
    },
    "tags": []
   },
   "outputs": [
    {
     "name": "stdout",
     "output_type": "stream",
     "text": [
      "Training R-squared:  1.0\n",
      "Training Explained Variation:  1.0\n",
      "Training MAPE: 1.45\n",
      "Training Mean Squared Error: 1.48\n",
      "Training RMSE:  1.22\n",
      "Training MAE:  0.76\n",
      " \n",
      "Validation R-squared:  0.99\n",
      "Validation Explained Variation:  0.99\n",
      "Validation MAPE: 1.68\n",
      "Validation Mean Squared Error: 1.48\n",
      "Validation RMSE:  5.91\n",
      "Validation MAE:  3.75\n",
      " \n",
      "Test R-squared:  0.96\n",
      "Test Explained Variation:  0.97\n",
      "Test MAPE: 1.77\n",
      "Test Mean Squared Error: 79.21\n",
      "Test RMSE:  8.9\n",
      "Test MAE:  6.5\n"
     ]
    }
   ],
   "source": [
    "print(\"Training R-squared: \",round(metrics.r2_score(Y_train,Y_train_pred),2))\n",
    "print(\"Training Explained Variation: \",round(metrics.explained_variance_score(Y_train,Y_train_pred),2))\n",
    "print('Training MAPE:', round(get_mape(Y_train,Y_train_pred), 2)) \n",
    "print('Training Mean Squared Error:', round(metrics.mean_squared_error(Y_train,Y_train_pred), 2)) \n",
    "print(\"Training RMSE: \",round(np.sqrt(metrics.mean_squared_error(Y_train,Y_train_pred)),2))\n",
    "print(\"Training MAE: \",round(metrics.mean_absolute_error(Y_train,Y_train_pred),2))\n",
    "\n",
    "print(' ')\n",
    "\n",
    "print(\"Validation R-squared: \",round(metrics.r2_score(Y_val,Y_val_pred),2))\n",
    "print(\"Validation Explained Variation: \",round(metrics.explained_variance_score(Y_val,Y_val_pred),2))\n",
    "print('Validation MAPE:', round(get_mape(Y_val,Y_val_pred), 2)) \n",
    "print('Validation Mean Squared Error:', round(metrics.mean_squared_error(Y_train,Y_train_pred), 2)) \n",
    "print(\"Validation RMSE: \",round(np.sqrt(metrics.mean_squared_error(Y_val,Y_val_pred)),2))\n",
    "print(\"Validation MAE: \",round(metrics.mean_absolute_error(Y_val,Y_val_pred),2))\n",
    "\n",
    "print(' ')\n",
    "\n",
    "print(\"Test R-squared: \",round(metrics.r2_score(Y_test,Y_test_pred),2))\n",
    "print(\"Test Explained Variation: \",round(metrics.explained_variance_score(Y_test,Y_test_pred),2))\n",
    "print('Test MAPE:', round(get_mape(Y_test,Y_test_pred), 2)) \n",
    "print('Test Mean Squared Error:', round(metrics.mean_squared_error(Y_test,Y_test_pred), 2)) \n",
    "print(\"Test RMSE: \",round(np.sqrt(metrics.mean_squared_error(Y_test,Y_test_pred)),2))\n",
    "print(\"Test MAE: \",round(metrics.mean_absolute_error(Y_test,Y_test_pred),2))"
   ]
  },
  {
   "cell_type": "markdown",
   "metadata": {
    "papermill": {
     "duration": 0.020451,
     "end_time": "2022-11-08T12:58:20.177665",
     "exception": false,
     "start_time": "2022-11-08T12:58:20.157214",
     "status": "completed"
    },
    "tags": []
   },
   "source": [
    "We have a decent Mean Absolute error but not great. I will create further tuned models in later notebooks as i know more..."
   ]
  },
  {
   "cell_type": "code",
   "execution_count": 16,
   "metadata": {
    "execution": {
     "iopub.execute_input": "2022-11-08T12:58:20.238888Z",
     "iopub.status.busy": "2022-11-08T12:58:20.237998Z",
     "iopub.status.idle": "2022-11-08T12:58:20.241833Z",
     "shell.execute_reply": "2022-11-08T12:58:20.241242Z",
     "shell.execute_reply.started": "2022-11-08T12:56:03.935629Z"
    },
    "papermill": {
     "duration": 0.043927,
     "end_time": "2022-11-08T12:58:20.241959",
     "exception": false,
     "start_time": "2022-11-08T12:58:20.198032",
     "status": "completed"
    },
    "tags": []
   },
   "outputs": [
    {
     "data": {
      "text/html": [
       "<div>\n",
       "<style scoped>\n",
       "    .dataframe tbody tr th:only-of-type {\n",
       "        vertical-align: middle;\n",
       "    }\n",
       "\n",
       "    .dataframe tbody tr th {\n",
       "        vertical-align: top;\n",
       "    }\n",
       "\n",
       "    .dataframe thead th {\n",
       "        text-align: right;\n",
       "    }\n",
       "</style>\n",
       "<table border=\"1\" class=\"dataframe\">\n",
       "  <thead>\n",
       "    <tr style=\"text-align: right;\">\n",
       "      <th></th>\n",
       "      <th>Date</th>\n",
       "      <th>Actual</th>\n",
       "      <th>Predicted</th>\n",
       "    </tr>\n",
       "  </thead>\n",
       "  <tbody>\n",
       "    <tr>\n",
       "      <th>0</th>\n",
       "      <td>2018-11-01</td>\n",
       "      <td>202.30</td>\n",
       "      <td>216.289778</td>\n",
       "    </tr>\n",
       "    <tr>\n",
       "      <th>1</th>\n",
       "      <td>2018-11-02</td>\n",
       "      <td>196.56</td>\n",
       "      <td>201.470182</td>\n",
       "    </tr>\n",
       "    <tr>\n",
       "      <th>2</th>\n",
       "      <td>2018-11-05</td>\n",
       "      <td>198.68</td>\n",
       "      <td>195.948933</td>\n",
       "    </tr>\n",
       "    <tr>\n",
       "      <th>3</th>\n",
       "      <td>2018-11-06</td>\n",
       "      <td>204.71</td>\n",
       "      <td>199.043601</td>\n",
       "    </tr>\n",
       "    <tr>\n",
       "      <th>4</th>\n",
       "      <td>2018-11-07</td>\n",
       "      <td>204.00</td>\n",
       "      <td>204.193666</td>\n",
       "    </tr>\n",
       "    <tr>\n",
       "      <th>...</th>\n",
       "      <td>...</td>\n",
       "      <td>...</td>\n",
       "      <td>...</td>\n",
       "    </tr>\n",
       "    <tr>\n",
       "      <th>368</th>\n",
       "      <td>2020-04-22</td>\n",
       "      <td>273.79</td>\n",
       "      <td>275.751755</td>\n",
       "    </tr>\n",
       "    <tr>\n",
       "      <th>369</th>\n",
       "      <td>2020-04-23</td>\n",
       "      <td>281.70</td>\n",
       "      <td>274.020244</td>\n",
       "    </tr>\n",
       "    <tr>\n",
       "      <th>370</th>\n",
       "      <td>2020-04-24</td>\n",
       "      <td>281.90</td>\n",
       "      <td>280.710045</td>\n",
       "    </tr>\n",
       "    <tr>\n",
       "      <th>371</th>\n",
       "      <td>2020-04-27</td>\n",
       "      <td>277.33</td>\n",
       "      <td>280.543603</td>\n",
       "    </tr>\n",
       "    <tr>\n",
       "      <th>372</th>\n",
       "      <td>2020-04-28</td>\n",
       "      <td>286.44</td>\n",
       "      <td>276.562125</td>\n",
       "    </tr>\n",
       "  </tbody>\n",
       "</table>\n",
       "<p>373 rows × 3 columns</p>\n",
       "</div>"
      ],
      "text/plain": [
       "          Date  Actual   Predicted\n",
       "0   2018-11-01  202.30  216.289778\n",
       "1   2018-11-02  196.56  201.470182\n",
       "2   2018-11-05  198.68  195.948933\n",
       "3   2018-11-06  204.71  199.043601\n",
       "4   2018-11-07  204.00  204.193666\n",
       "..         ...     ...         ...\n",
       "368 2020-04-22  273.79  275.751755\n",
       "369 2020-04-23  281.70  274.020244\n",
       "370 2020-04-24  281.90  280.710045\n",
       "371 2020-04-27  277.33  280.543603\n",
       "372 2020-04-28  286.44  276.562125\n",
       "\n",
       "[373 rows x 3 columns]"
      ]
     },
     "execution_count": 16,
     "metadata": {},
     "output_type": "execute_result"
    }
   ],
   "source": [
    "df_pred = pd.DataFrame(Y_val.values, columns=['Actual'], index=Y_val.index)\n",
    "df_pred['Predicted'] = Y_val_pred\n",
    "df_pred = df_pred.reset_index()\n",
    "df_pred.loc[:, 'Date'] = pd.to_datetime(df_pred['Date'],format='%Y-%m-%d')\n",
    "df_pred"
   ]
  },
  {
   "cell_type": "code",
   "execution_count": 17,
   "metadata": {
    "execution": {
     "iopub.execute_input": "2022-11-08T12:58:20.287319Z",
     "iopub.status.busy": "2022-11-08T12:58:20.286770Z",
     "iopub.status.idle": "2022-11-08T12:58:20.289291Z",
     "shell.execute_reply": "2022-11-08T12:58:20.288740Z",
     "shell.execute_reply.started": "2022-11-08T12:56:04.010822Z"
    },
    "papermill": {
     "duration": 0.026361,
     "end_time": "2022-11-08T12:58:20.289388",
     "exception": false,
     "start_time": "2022-11-08T12:58:20.263027",
     "status": "completed"
    },
    "tags": []
   },
   "outputs": [],
   "source": [
    "### Plot of Predicted vs Actual Prices on Time Series plot"
   ]
  },
  {
   "cell_type": "code",
   "execution_count": 18,
   "metadata": {
    "execution": {
     "iopub.execute_input": "2022-11-08T12:58:20.332378Z",
     "iopub.status.busy": "2022-11-08T12:58:20.331752Z",
     "iopub.status.idle": "2022-11-08T12:58:20.490160Z",
     "shell.execute_reply": "2022-11-08T12:58:20.489590Z",
     "shell.execute_reply.started": "2022-11-08T12:56:04.017577Z"
    },
    "papermill": {
     "duration": 0.180584,
     "end_time": "2022-11-08T12:58:20.490268",
     "exception": false,
     "start_time": "2022-11-08T12:58:20.309684",
     "status": "completed"
    },
    "tags": []
   },
   "outputs": [
    {
     "data": {
      "text/plain": [
       "<matplotlib.axes._subplots.AxesSubplot at 0x7fee2f9fff90>"
      ]
     },
     "execution_count": 18,
     "metadata": {},
     "output_type": "execute_result"
    },
    {
     "data": {
      "image/png": "[encoded data removed]",
      "text/plain": [
       "<Figure size 432x288 with 1 Axes>"
      ]
     },
     "metadata": {
      "needs_background": "light"
     },
     "output_type": "display_data"
    }
   ],
   "source": [
    "df_pred[['Actual', 'Predicted']].plot()"
   ]
  },
  {
   "cell_type": "code",
   "execution_count": 19,
   "metadata": {
    "execution": {
     "iopub.execute_input": "2022-11-08T12:58:20.538332Z",
     "iopub.status.busy": "2022-11-08T12:58:20.537725Z",
     "iopub.status.idle": "2022-11-08T12:58:20.540471Z",
     "shell.execute_reply": "2022-11-08T12:58:20.540016Z",
     "shell.execute_reply.started": "2022-11-08T12:56:04.211578Z"
    },
    "papermill": {
     "duration": 0.027833,
     "end_time": "2022-11-08T12:58:20.540583",
     "exception": false,
     "start_time": "2022-11-08T12:58:20.512750",
     "status": "completed"
    },
    "tags": []
   },
   "outputs": [],
   "source": [
    "##As we can see the actual and the predicted outcomes as very close"
   ]
  },
  {
   "cell_type": "markdown",
   "metadata": {
    "papermill": {
     "duration": 0.021621,
     "end_time": "2022-11-08T12:58:20.584242",
     "exception": false,
     "start_time": "2022-11-08T12:58:20.562621",
     "status": "completed"
    },
    "tags": []
   },
   "source": [
    "### This Code is Re-edited By @pandeyharsh407, \n",
    "#### I'll upload more projects with advance Machine learning Techniques as i learn them,till then stay tuned...\n",
    "### Thank you for visiting..."
   ]
  }
 ],
 "metadata": {
  "kernelspec": {
   "display_name": "Python 3",
   "language": "python",
   "name": "python3"
  },
  "language_info": {
   "codemirror_mode": {
    "name": "ipython",
    "version": 3
   },
   "file_extension": ".py",
   "mimetype": "text/x-python",
   "name": "python",
   "nbconvert_exporter": "python",
   "pygments_lexer": "ipython3",
   "version": "3.7.6"
  },
  "papermill": {
   "duration": 6.964114,
   "end_time": "2022-11-08T12:58:20.715571",
   "environment_variables": {},
   "exception": null,
   "input_path": "__notebook__.ipynb",
   "output_path": "__notebook__.ipynb",
   "parameters": {},
   "start_time": "2022-11-08T12:58:13.751457",
   "version": "2.1.0"
  }
 },
 "nbformat": 4,
 "nbformat_minor": 4
}
